{
 "cells": [
  {
   "cell_type": "code",
   "execution_count": 1,
   "id": "7b4c62b2",
   "metadata": {},
   "outputs": [
    {
     "ename": "NotADirectoryError",
     "evalue": "Cache directory does not exist! Please check for typos or create it first.",
     "output_type": "error",
     "traceback": [
      "\u001b[31m---------------------------------------------------------------------------\u001b[39m",
      "\u001b[31mNotADirectoryError\u001b[39m                        Traceback (most recent call last)",
      "\u001b[36mCell\u001b[39m\u001b[36m \u001b[39m\u001b[32mIn[1]\u001b[39m\u001b[32m, line 9\u001b[39m\n\u001b[32m      6\u001b[39m \u001b[38;5;28;01mfrom\u001b[39;00m\u001b[38;5;250m \u001b[39m\u001b[34;01msklearn\u001b[39;00m\u001b[34;01m.\u001b[39;00m\u001b[34;01mmetrics\u001b[39;00m\u001b[38;5;250m \u001b[39m\u001b[38;5;28;01mimport\u001b[39;00m mean_absolute_error\n\u001b[32m      8\u001b[39m \u001b[38;5;66;03m# Enable FastF1 caching\u001b[39;00m\n\u001b[32m----> \u001b[39m\u001b[32m9\u001b[39m \u001b[43mfastf1\u001b[49m\u001b[43m.\u001b[49m\u001b[43mCache\u001b[49m\u001b[43m.\u001b[49m\u001b[43menable_cache\u001b[49m\u001b[43m(\u001b[49m\u001b[33;43m\"\u001b[39;49m\u001b[33;43mf1_cache\u001b[39;49m\u001b[33;43m\"\u001b[39;49m\u001b[43m)\u001b[49m\n\u001b[32m     11\u001b[39m \u001b[38;5;66;03m# Load FastF1 2024 Australian GP race session\u001b[39;00m\n\u001b[32m     12\u001b[39m session_2024 = fastf1.get_session(\u001b[32m2024\u001b[39m, \u001b[32m3\u001b[39m, \u001b[33m\"\u001b[39m\u001b[33mR\u001b[39m\u001b[33m\"\u001b[39m)\n",
      "\u001b[36mFile \u001b[39m\u001b[32m/usr/local/python/3.12.1/lib/python3.12/site-packages/fastf1/req.py:262\u001b[39m, in \u001b[36mCache.enable_cache\u001b[39m\u001b[34m(cls, cache_dir, ignore_version, force_renew, use_requests_cache)\u001b[39m\n\u001b[32m    259\u001b[39m cache_dir = os.path.expanduser(cache_dir)\n\u001b[32m    261\u001b[39m \u001b[38;5;28;01mif\u001b[39;00m \u001b[38;5;129;01mnot\u001b[39;00m os.path.exists(cache_dir):\n\u001b[32m--> \u001b[39m\u001b[32m262\u001b[39m     \u001b[38;5;28;01mraise\u001b[39;00m \u001b[38;5;167;01mNotADirectoryError\u001b[39;00m(\u001b[33m\"\u001b[39m\u001b[33mCache directory does not exist! Please \u001b[39m\u001b[33m\"\u001b[39m\n\u001b[32m    263\u001b[39m                              \u001b[33m\"\u001b[39m\u001b[33mcheck for typos or create it first.\u001b[39m\u001b[33m\"\u001b[39m)\n\u001b[32m    264\u001b[39m \u001b[38;5;28mcls\u001b[39m._CACHE_DIR = cache_dir\n\u001b[32m    265\u001b[39m \u001b[38;5;28mcls\u001b[39m._IGNORE_VERSION = ignore_version\n",
      "\u001b[31mNotADirectoryError\u001b[39m: Cache directory does not exist! Please check for typos or create it first."
     ]
    }
   ],
   "source": [
    "import fastf1\n",
    "import pandas as pd\n",
    "import numpy as np\n",
    "from sklearn.model_selection import train_test_split\n",
    "from sklearn.ensemble import GradientBoostingRegressor\n",
    "from sklearn.metrics import mean_absolute_error\n",
    "\n",
    "# Enable FastF1 caching\n",
    "fastf1.Cache.enable_cache(\"f1_cache\")\n",
    "\n",
    "# Load FastF1 2024 Australian GP race session\n",
    "session_2024 = fastf1.get_session(2024, 3, \"R\")\n",
    "session_2024.load()\n",
    "\n",
    "# Extract lap times\n",
    "laps_2024 = session_2024.laps[[\"Driver\", \"LapTime\"]].copy()\n",
    "laps_2024.dropna(subset=[\"LapTime\"], inplace=True)\n",
    "laps_2024[\"LapTime (s)\"] = laps_2024[\"LapTime\"].dt.total_seconds()\n",
    "\n",
    "# 2025 Qualifying Data\n",
    "qualifying_2025 = pd.DataFrame({\n",
    "    \"Driver\": [\"Lando Norris\", \"Oscar Piastri\", \"Max Verstappen\", \"George Russell\", \"Yuki Tsunoda\",\n",
    "               \"Alexander Albon\", \"Charles Leclerc\", \"Lewis Hamilton\", \"Pierre Gasly\", \"Carlos Sainz\", \"Fernando Alonso\", \"Lance Stroll\"],\n",
    "    \"QualifyingTime (s)\": [75.096, 75.180, 75.481, 75.546, 75.670,\n",
    "                           75.737, 75.755, 75.973, 75.980, 76.062, 76.4, 76.5]\n",
    "})\n",
    "\n",
    "# Map full names to FastF1 3-letter codes\n",
    "driver_mapping = {\n",
    "    \"Lando Norris\": \"NOR\", \"Oscar Piastri\": \"PIA\", \"Max Verstappen\": \"VER\", \"George Russell\": \"RUS\",\n",
    "    \"Yuki Tsunoda\": \"TSU\", \"Alexander Albon\": \"ALB\", \"Charles Leclerc\": \"LEC\", \"Lewis Hamilton\": \"HAM\",\n",
    "    \"Pierre Gasly\": \"GAS\", \"Carlos Sainz\": \"SAI\", \"Lance Stroll\": \"STR\", \"Fernando Alonso\": \"ALO\"\n",
    "}\n",
    "\n",
    "qualifying_2025[\"DriverCode\"] = qualifying_2025[\"Driver\"].map(driver_mapping)\n",
    "\n",
    "# Merge 2025 Qualifying Data with 2024 Race Data\n",
    "merged_data = qualifying_2025.merge(laps_2024, left_on=\"DriverCode\", right_on=\"Driver\")\n",
    "\n",
    "# Use only \"QualifyingTime (s)\" as a feature\n",
    "X = merged_data[[\"QualifyingTime (s)\"]]\n",
    "y = merged_data[\"LapTime (s)\"]\n",
    "\n",
    "if X.shape[0] == 0:\n",
    "    raise ValueError(\"Dataset is empty after preprocessing. Check data sources!\")\n",
    "\n",
    "# Train Gradient Boosting Model\n",
    "X_train, X_test, y_train, y_test = train_test_split(X, y, test_size=0.2, random_state=39)\n",
    "model = GradientBoostingRegressor(n_estimators=100, learning_rate=0.1, random_state=39)\n",
    "model.fit(X_train, y_train)\n",
    "\n",
    "# Predict using 2025 qualifying times\n",
    "predicted_lap_times = model.predict(qualifying_2025[[\"QualifyingTime (s)\"]])\n",
    "qualifying_2025[\"PredictedRaceTime (s)\"] = predicted_lap_times\n",
    "\n",
    "# Rank drivers by predicted race time\n",
    "qualifying_2025 = qualifying_2025.sort_values(by=\"PredictedRaceTime (s)\")\n",
    "\n",
    "# Print final predictions\n",
    "print(\"\\n🏁 Predicted 2025 Chinese GP Winner 🏁\\n\")\n",
    "print(qualifying_2025[[\"Driver\", \"PredictedRaceTime (s)\"]])\n",
    "\n",
    "# Evaluate Model\n",
    "y_pred = model.predict(X_test)\n",
    "print(f\"\\n🔍 Model Error (MAE): {mean_absolute_error(y_test, y_pred):.2f} seconds\")"
   ]
  },
  {
   "cell_type": "code",
   "execution_count": null,
   "id": "070bba6b",
   "metadata": {},
   "outputs": [],
   "source": []
  }
 ],
 "metadata": {
  "kernelspec": {
   "display_name": "Python 3",
   "language": "python",
   "name": "python3"
  },
  "language_info": {
   "codemirror_mode": {
    "name": "ipython",
    "version": 3
   },
   "file_extension": ".py",
   "mimetype": "text/x-python",
   "name": "python",
   "nbconvert_exporter": "python",
   "pygments_lexer": "ipython3",
   "version": "3.12.1"
  }
 },
 "nbformat": 4,
 "nbformat_minor": 5
}
